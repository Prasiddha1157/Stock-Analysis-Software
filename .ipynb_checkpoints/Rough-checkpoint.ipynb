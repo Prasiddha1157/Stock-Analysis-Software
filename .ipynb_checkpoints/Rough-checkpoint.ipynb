{
 "cells": [
  {
   "cell_type": "code",
   "execution_count": null,
   "id": "altered-maple",
   "metadata": {},
   "outputs": [],
   "source": [
    "while True:\n",
    "    try:\n",
    "        market = input(\"Enter a market: \")\n",
    "        market = market.upper()\n",
    "        if market == \"S&P\" or market == \"NASDAQ\" or market == \"SENSEX\" or market == \"HANG SENG\" or market == \"NIKKEI\" or market == \"FTSE\":\n",
    "            stock = input(\"Enter a stock ticker symbol: \")\n",
    "        else:\n",
    "            raise InvalidMarket\n",
    "        break\n",
    "    except InvalidMarket:\n",
    "        print(\"Market not registered in database. Please enter a registered market.\")\n"
   ]
  }
 ],
 "metadata": {
  "kernelspec": {
   "display_name": "Python 3",
   "language": "python",
   "name": "python3"
  },
  "language_info": {
   "codemirror_mode": {
    "name": "ipython",
    "version": 3
   },
   "file_extension": ".py",
   "mimetype": "text/x-python",
   "name": "python",
   "nbconvert_exporter": "python",
   "pygments_lexer": "ipython3",
   "version": "3.8.1"
  }
 },
 "nbformat": 4,
 "nbformat_minor": 5
}
